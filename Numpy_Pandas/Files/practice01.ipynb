{
 "cells": [
  {
   "cell_type": "code",
   "execution_count": null,
   "id": "ad18c69d",
   "metadata": {},
   "outputs": [],
   "source": [
    "import pandas as pd\n",
    "import numpy as np\n",
    "import matplotlib.pyplot as plt\n",
    "import seaborn as sns"
   ]
  },
  {
   "cell_type": "code",
   "execution_count": null,
   "id": "ea529f5d",
   "metadata": {},
   "outputs": [],
   "source": [
    "#Creating numpy array\n",
    "import numpy as np\n"
   ]
  },
  {
   "cell_type": "code",
   "execution_count": null,
   "id": "8f151108",
   "metadata": {},
   "outputs": [],
   "source": [
    "oneDarray = np.array([1,2,3,4,5,])\n",
    "print(oneDarray)\n",
    "print(oneDarray.ndim)\n",
    "twoDarrar = np.array([[1,2,3,4,5], [6,7,8,9,10]])\n",
    "print(twoDarrar)\n",
    "print(twoDarrar.ndim)\n",
    "threeDarray = np.array([[[1,2,3,4],[5,6,7,8], [1,2,3,4],[5,6,7,8]]])\n",
    "print(threeDarray)\n",
    "print(threeDarray.ndim)\n",
    "arrat = np.array([[[1,2,3,5]]])\n",
    "print(arrat.ndim)"
   ]
  }
 ],
 "metadata": {
  "interpreter": {
   "hash": "369f2c481f4da34e4445cda3fffd2e751bd1c4d706f27375911949ba6bb62e1c"
  },
  "kernelspec": {
   "display_name": "Python 3.10.5 64-bit",
   "language": "python",
   "name": "python3"
  },
  "language_info": {
   "codemirror_mode": {
    "name": "ipython",
    "version": 3
   },
   "file_extension": ".py",
   "mimetype": "text/x-python",
   "name": "python",
   "nbconvert_exporter": "python",
   "pygments_lexer": "ipython3",
   "version": "3.10.5"
  }
 },
 "nbformat": 4,
 "nbformat_minor": 5
}
