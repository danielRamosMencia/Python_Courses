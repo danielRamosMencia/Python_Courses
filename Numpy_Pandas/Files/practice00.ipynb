{
 "cells": [
  {
   "cell_type": "code",
   "execution_count": null,
   "id": "dba1ca97",
   "metadata": {},
   "outputs": [],
   "source": [
    "#firts program\n",
    "print(\"Hello world\")"
   ]
  },
  {
   "cell_type": "code",
   "execution_count": null,
   "id": "66f3bd71",
   "metadata": {},
   "outputs": [],
   "source": [
    "#input and output\n",
    "name = input(\"Enter your name\")\n",
    "print(\"Welcome\", name)"
   ]
  },
  {
   "cell_type": "code",
   "execution_count": null,
   "id": "d8f79f60",
   "metadata": {},
   "outputs": [],
   "source": [
    "#variables and datatypes\n",
    "x = []\n",
    "print(x)\n",
    "print(type(x))"
   ]
  },
  {
   "cell_type": "code",
   "execution_count": null,
   "id": "b1db44a3",
   "metadata": {},
   "outputs": [],
   "source": [
    "#arithmetics operators\n",
    "print(10 + 5)\n",
    "print(15 - 5)\n",
    "print(6 * 2)\n",
    "print(13 / 4)\n",
    "print(13 // 4)\n",
    "print(2 ** 8)\n",
    "print( 9 % 2)"
   ]
  },
  {
   "cell_type": "code",
   "execution_count": null,
   "id": "c85b85f5",
   "metadata": {},
   "outputs": [],
   "source": [
    "#Comparison Operators\n",
    "print(2 < 5)\n",
    "print(5 > 2)\n",
    "print(2 > 5)\n",
    "x = True\n",
    "print(x)\n",
    "print(not x)"
   ]
  },
  {
   "cell_type": "code",
   "execution_count": null,
   "id": "4ee5ce6e",
   "metadata": {},
   "outputs": [],
   "source": [
    "#Comparison Operators\n",
    "print((4 > 3) and (5 > 3))\n",
    "print((7 < 2) or (8 < 3))\n",
    "print(not True)"
   ]
  },
  {
   "cell_type": "code",
   "execution_count": null,
   "id": "f85b85af",
   "metadata": {},
   "outputs": [],
   "source": [
    "#conditional blocks (if, elif, else)\n",
    "x = 11\n",
    "if x < 10:\n",
    "    print(\"X value is under 10\")\n",
    "elif x == 10:\n",
    "    print(\"X value is on 10\")\n",
    "elif x > 10:\n",
    "    print(\"X value is upper 10\")\n",
    "else:\n",
    "    print(\"UNEXPECTED INPUT\")\n",
    "    "
   ]
  },
  {
   "cell_type": "code",
   "execution_count": null,
   "id": "6a60e836",
   "metadata": {},
   "outputs": [],
   "source": [
    "#Loops\n",
    "for i in range(0,21,5):\n",
    "    print(i)\n",
    "    \n",
    "a = 0\n",
    "while a <= 5:\n",
    "    print(\"Hola {}\".format(a))\n",
    "    a = a + 1"
   ]
  },
  {
   "cell_type": "code",
   "execution_count": null,
   "id": "fb2c1329",
   "metadata": {},
   "outputs": [],
   "source": [
    "#Loops\n",
    "while True:\n",
    "    name = input(\"Enter your name: \")\n",
    "    print(\"Welcome {}\".format(name))\n",
    "    if name.find(\"a\") == True:\n",
    "        print(\"SUCCESS\")\n",
    "        break\n",
    "    else:\n",
    "        print(\"ERROR\")\n",
    "    "
   ]
  },
  {
   "cell_type": "code",
   "execution_count": null,
   "id": "ccff79bf",
   "metadata": {},
   "outputs": [],
   "source": [
    "#About List\n",
    "l = [0,1,2,3,4,5,6,7,8,9]\n",
    "first_element = l[0]\n",
    "print(first_element)\n",
    "last_two_elements = l[8:10]\n",
    "print(last_two_elements)\n",
    "\n",
    "#for i in l:\n",
    "#    print(i)"
   ]
  },
  {
   "cell_type": "code",
   "execution_count": null,
   "id": "e5a7ed11",
   "metadata": {},
   "outputs": [],
   "source": [
    "#About dictionaries\n",
    "data = {\"Name\":\"Daniel\", \"Age\":21, \"Country\":\"Honduras\"}\n",
    "n = data[\"Name\"]\n",
    "a = data[\"Age\"]\n",
    "c = data[\"Country\"]\n",
    "\n",
    "print(\"Your name: {} Your Age: {}, Your Country: {}\".format(n,a,c))\n",
    "\n",
    "for i in data:\n",
    "    #This print the keys of the dictionary\n",
    "    print(i)\n"
   ]
  },
  {
   "cell_type": "code",
   "execution_count": null,
   "id": "e24c20b1",
   "metadata": {},
   "outputs": [],
   "source": [
    "#About Tuples\n",
    "t = (\"Daniel\",\"Ana\",\"Williams\",\"Laura\",\"Isaac\",\"Viviana\",\"Jonny\",\"Alexa\",\"Pedro\",\"Tabata\")\n",
    "for i in range(0, len(t)):\n",
    "    print(t[i])\n",
    "    if t[i] == \"Daniel\":\n",
    "        print(\"El mas crack\")"
   ]
  }
 ],
 "metadata": {
  "kernelspec": {
   "display_name": "Python 3 (ipykernel)",
   "language": "python",
   "name": "python3"
  },
  "language_info": {
   "codemirror_mode": {
    "name": "ipython",
    "version": 3
   },
   "file_extension": ".py",
   "mimetype": "text/x-python",
   "name": "python",
   "nbconvert_exporter": "python",
   "pygments_lexer": "ipython3",
   "version": "3.10.5"
  }
 },
 "nbformat": 4,
 "nbformat_minor": 5
}
