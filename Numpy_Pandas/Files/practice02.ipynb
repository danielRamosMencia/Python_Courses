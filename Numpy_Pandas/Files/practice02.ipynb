{
 "cells": [
  {
   "cell_type": "code",
   "execution_count": null,
   "metadata": {},
   "outputs": [],
   "source": [
    "import pandas as pd\n",
    "import numpy as np\n",
    "import matplotlib.pyplot as plt\n",
    "import seaborn as sns"
   ]
  },
  {
   "cell_type": "code",
   "execution_count": null,
   "metadata": {},
   "outputs": [],
   "source": [
    "#INDEXING NUMPY ARRAY\n",
    "twoDarray = np.array([[1,2,3],[4,5,6]])\n",
    "print(twoDarray)"
   ]
  },
  {
   "cell_type": "code",
   "execution_count": null,
   "metadata": {},
   "outputs": [],
   "source": [
    "#print one element of the array\n",
    "print(twoDarray[0])#first list\n",
    "print(twoDarray[1])#second list\n",
    "#print element into a list element of the array\n",
    "print(twoDarray[0, 0])#first element of the first list\n",
    "print(twoDarray[1, 2])#third element of the second list\n",
    "\n"
   ]
  },
  {
   "cell_type": "code",
   "execution_count": null,
   "metadata": {},
   "outputs": [],
   "source": [
    "#A 3D array contains 2 2D arrays, and each 2D array contains 1D arrays, and the\n",
    "#1D arraysm contains scalars or elements\n",
    "threeDarray = np.array([[[1,2,3,],[-1,-2,-3]],[[5,6,7],[-5,-6,-7]]])\n",
    "print(\"First 2D array:\")\n",
    "print(threeDarray[0])\n",
    "print(\"Second 1D array of the first 2D array\")\n",
    "print(threeDarray[0, 1])\n",
    "print(\"Third scalar of the first 1D array of the first 2D array\")\n",
    "print(threeDarray[0, 0, 2]) \n",
    "#np_array[A, B, C]\n",
    "#A for 2D arrays, B for 1D array, C for elements on 1D arrays"
   ]
  },
  {
   "cell_type": "code",
   "execution_count": null,
   "metadata": {},
   "outputs": [],
   "source": [
    "#Shape\n",
    "my_array = np.array([[1,2,3], [4,5,6], [7,8,9], [10, 11, 12]])\n",
    "print(my_array.shape)\n",
    "print(\"{} Represents the number of dimensions\".format(my_array.shape[0]))\n",
    "print(\"{} Represents the number of elements on thats dimensions\".format(my_array.shape[1]))"
   ]
  },
  {
   "cell_type": "code",
   "execution_count": null,
   "metadata": {},
   "outputs": [],
   "source": [
    "#Iterating np arrays\n",
    "#Example for a 2D array or bidimensional vector or a 2D Matrix\n",
    "M = np.array([[\"a\",\"b\",\"c\"],[\"d\", \"e\", \"f\"]])\n",
    "\n",
    "#By each 1D array on the 2D array\n",
    "print(\"1D arrays\")\n",
    "for i in M:\n",
    "    print(i)\n",
    "\n",
    "#By each element on 1D array\n",
    "print(\"All elements\")\n",
    "for i in M:#outer loop\n",
    "    for j in i:#inner loop\n",
    "        print(j)"
   ]
  },
  {
   "cell_type": "code",
   "execution_count": null,
   "metadata": {},
   "outputs": [],
   "source": [
    "#Another examples\n",
    "my_array = np.array([[1,2,3], [4,5,6], [7,8,9], [10, 11, 12]])\n",
    "for i in my_array:\n",
    "    print(i)\n",
    "for i in my_array:\n",
    "    for j in i:\n",
    "        print(j)"
   ]
  },
  {
   "cell_type": "code",
   "execution_count": null,
   "metadata": {},
   "outputs": [],
   "source": [
    "#Iterating 3D array\n",
    "D = np.array([[[1,2,3],[4,5,6]],[[7,8,9],[10,11,12]]])\n",
    "print(\"2D arrays\")\n",
    "for i in D:\n",
    "    print(i)\n",
    "print(\"1D arrays\")\n",
    "for i in D:\n",
    "    for j in i:\n",
    "        print(j)\n",
    "print(\"All elements of the matrix\")\n",
    "for i in D:#outermost loop\n",
    "    for j in i:#middle loop\n",
    "        for k in j:#scalars loop\n",
    "            print(k)\n"
   ]
  }
 ],
 "metadata": {
  "interpreter": {
   "hash": "369f2c481f4da34e4445cda3fffd2e751bd1c4d706f27375911949ba6bb62e1c"
  },
  "kernelspec": {
   "display_name": "Python 3.10.5 64-bit",
   "language": "python",
   "name": "python3"
  },
  "language_info": {
   "codemirror_mode": {
    "name": "ipython",
    "version": 3
   },
   "file_extension": ".py",
   "mimetype": "text/x-python",
   "name": "python",
   "nbconvert_exporter": "python",
   "pygments_lexer": "ipython3",
   "version": "3.10.5"
  },
  "orig_nbformat": 4
 },
 "nbformat": 4,
 "nbformat_minor": 2
}
