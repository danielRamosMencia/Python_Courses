{
 "cells": [
  {
   "cell_type": "code",
   "execution_count": null,
   "metadata": {},
   "outputs": [],
   "source": [
    "import numpy as np"
   ]
  },
  {
   "cell_type": "code",
   "execution_count": null,
   "metadata": {},
   "outputs": [],
   "source": [
    "#BASIC CREATE DEFAULT FUNCTIONS ON NUMPY \n",
    "print(\"np.zeros create a float type zeros array\")\n",
    "zA = np.zeros(10)\n",
    "print(zA)\n",
    "print(\"astype help us to convert float to integer or other compatible type\")\n",
    "zA = zA.astype(int)\n",
    "print(zA)\n",
    "zA = zA.astype(str)\n",
    "print(zA)"
   ]
  },
  {
   "cell_type": "code",
   "execution_count": null,
   "metadata": {},
   "outputs": [],
   "source": [
    "onesArray = np.ones(15)\n",
    "print(onesArray)\n",
    "onesArray = onesArray.astype(int)\n",
    "print(onesArray)"
   ]
  },
  {
   "cell_type": "code",
   "execution_count": null,
   "metadata": {},
   "outputs": [],
   "source": [
    "#FULL function\n",
    "print(\"np.full can create an array what have predefined values on its elements\")\n",
    "#np.full (x, y)\n",
    "#x: quantity of elements, y: value of elements\n",
    "p = np.full(10,5)\n",
    "o = np.full(3, \"a\")\n",
    "print(p)\n",
    "print(o)"
   ]
  },
  {
   "cell_type": "code",
   "execution_count": null,
   "metadata": {},
   "outputs": [],
   "source": [
    "#Operations\n",
    "matrix = np.array([[1,2,3],[4,5,6]])\n",
    "print(\"Adding\")\n",
    "print(matrix + 2)\n",
    "print(\"Sustracting\")\n",
    "print(matrix - 1)\n",
    "print(\"Multipling\")\n",
    "print(matrix * 10)\n",
    "print(\"Dividing\")\n",
    "print(matrix / 2)#FLOAT\n",
    "print(matrix // 2)#INTEGER\n",
    "print(\"Powering\")\n",
    "print(matrix ** 2)\n"
   ]
  },
  {
   "cell_type": "code",
   "execution_count": null,
   "metadata": {},
   "outputs": [],
   "source": [
    "print(\"Transpose\")\n",
    "print(matrix.T)"
   ]
  },
  {
   "cell_type": "code",
   "execution_count": null,
   "metadata": {},
   "outputs": [],
   "source": [
    "#Selected elements operations\n",
    "m1 = np.array([[1,2,3],[4,5,6]])\n",
    "m2 = np.array([[-1,-2,-3],[-4,-5,-6]])\n",
    "print(m1 + m2)\n",
    "print(m1 - m2)\n",
    "print(m1 * m2)\n",
    "#Works with all mathematicians operations\n"
   ]
  },
  {
   "cell_type": "code",
   "execution_count": null,
   "metadata": {},
   "outputs": [],
   "source": [
    "#Another way for the multiplication\n",
    "#Change the dimensions\n",
    "m1 = np.array([[1,2,3],[4,5,6],[0,0,0]])\n",
    "m2 = np.array([[-1,-2,-3],[-4,-5,-6],[0,0,0]])\n",
    "print(\"We need the same dimensions (Square Matrix):\")\n",
    "print(\"{} matrix 1 and {} matrix 2\".format(m1.shape, m2.shape))\n",
    "print(\"We can use the matmul Numpy function:\")\n",
    "np.matmul(m1, m2)\n",
    "\n"
   ]
  },
  {
   "cell_type": "code",
   "execution_count": null,
   "metadata": {},
   "outputs": [],
   "source": [
    "#Statistics\n",
    "print(\"np.min obtain the min value in our array\")\n",
    "np.min(m2)"
   ]
  },
  {
   "cell_type": "code",
   "execution_count": null,
   "metadata": {},
   "outputs": [],
   "source": [
    "print(\"np.max obtaing the max value in out array\")\n",
    "np.max(m2)"
   ]
  },
  {
   "cell_type": "code",
   "execution_count": null,
   "metadata": {},
   "outputs": [],
   "source": [
    "print(\"np.sum calculates the summation of all elements on our array\")\n",
    "np.sum(m2)"
   ]
  },
  {
   "cell_type": "code",
   "execution_count": null,
   "metadata": {},
   "outputs": [],
   "source": [
    "print(\"np.mean calculates the media on the array\")\n",
    "np.mean(m2)"
   ]
  },
  {
   "cell_type": "code",
   "execution_count": null,
   "metadata": {},
   "outputs": [],
   "source": [
    "print(\"np.std obtain the standard desviation\")\n",
    "np.std(m2)\n",
    "#x = np.std(m2)\n",
    "#print(\"{0:.2f}\".format(x))\n"
   ]
  },
  {
   "cell_type": "code",
   "execution_count": null,
   "metadata": {},
   "outputs": [],
   "source": [
    "print(\"np.media obtain the median value on the array\")\n",
    "np.median(m2)"
   ]
  }
 ],
 "metadata": {
  "interpreter": {
   "hash": "369f2c481f4da34e4445cda3fffd2e751bd1c4d706f27375911949ba6bb62e1c"
  },
  "kernelspec": {
   "display_name": "Python 3.10.5 64-bit",
   "language": "python",
   "name": "python3"
  },
  "language_info": {
   "codemirror_mode": {
    "name": "ipython",
    "version": 3
   },
   "file_extension": ".py",
   "mimetype": "text/x-python",
   "name": "python",
   "nbconvert_exporter": "python",
   "pygments_lexer": "ipython3",
   "version": "3.10.5"
  },
  "orig_nbformat": 4
 },
 "nbformat": 4,
 "nbformat_minor": 2
}
